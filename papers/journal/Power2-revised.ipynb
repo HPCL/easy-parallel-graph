{
 "cells": [
  {
   "cell_type": "code",
   "execution_count": 1,
   "metadata": {
    "collapsed": false
   },
   "outputs": [
    {
     "data": {
      "text/html": [
       "<style>.container { width:100% !important; }</style>"
      ],
      "text/plain": [
       "<IPython.core.display.HTML object>"
      ]
     },
     "metadata": {},
     "output_type": "display_data"
    }
   ],
   "source": [
    "import matplotlib.pyplot as plt\n",
    "import numpy as np\n",
    "import pandas as pd\n",
    "import seaborn as sns     # you can install this with \"pip install seaborn\"\n",
    "import sys\n",
    "%matplotlib inline  \n",
    "#plt.rcParams.update({'font.size': 16})\n",
    "from IPython.core.display import display, HTML\n",
    "display(HTML(\"<style>.container { width:100% !important; }</style>\"))"
   ]
  },
  {
   "cell_type": "markdown",
   "metadata": {},
   "source": [
    "## Settings\n",
    "Edit the variables below to indicate which plots to generate, the algs list is a list of subdirectories with results (they must contain the file parsed-power-aggregate.txt."
   ]
  },
  {
   "cell_type": "code",
   "execution_count": 23,
   "metadata": {
    "collapsed": true
   },
   "outputs": [],
   "source": [
    "algs = ['MST/output-16epv','MST/output-8epv','MST/output-real','CC/output-16epv','CC/output-8epv','CC/output-real']\n",
    "algs = ['MST/output-8epv-new','MST/output-real-new']\n",
    "algs = ['CC/output-8epv','CC/output-real']\n",
    "whats = ['Total CPU Energy (J)','Average CPU Power (W)']\n",
    "epvs = ['8','16']\n",
    "nws = ['ER','G']\n",
    "nws = ['com-lj-org-weighted','soc-pokec','youtubeNetwork']\n",
    "insperc = ['100','75']\n",
    "sleep_power={1:35.59980, 2:32.50874, 4:39.00752, 8:27.53429, 16:29.59654, 24:26.78392, \n",
    "             32:28.23629, 40:29.28156, 48:29.53099, 56:27.61415, 64:25.24939, 72:29.56577}\n",
    "sleep_energy={1:356.00497, 2:325.09772, 4:390.13837, 8:275.48913, 16:296.30119, 24:268.22497, \n",
    "             32:283.00666, 40:293.51369, 48:296.04856, 56:276.91622, 64:253.14684, 72:296.29419}\n",
    "galois = {}; insertion = {}; deletion={}"
   ]
  },
  {
   "cell_type": "markdown",
   "metadata": {},
   "source": [
    "## Functions\n",
    "A couple of functions that extract the data and generate the plots."
   ]
  },
  {
   "cell_type": "code",
   "execution_count": 24,
   "metadata": {
    "collapsed": false
   },
   "outputs": [],
   "source": [
    "def genBoxPlot(alg, what, insertion, deletion, galois=None):\n",
    "    print(alg,what)\n",
    "    baseline=[]\n",
    "\n",
    "    if what=='Average CPU Power (W)': baseline = sleep_power\n",
    "    # Set up dataframe columns\n",
    "    if galois:\n",
    "        columns = ['Key','Threads', alg+'-ins',alg+'-del','Galois']\n",
    "    else:\n",
    "        #if baseline: columns = ['Key','Threads','Baseline', alg+'-ins',alg+'-del']\n",
    "        columns = ['Key','Threads', alg+'-ins',alg+'-del']\n",
    "    df = pd.DataFrame(columns = columns)\n",
    "\n",
    "    # Populate dataframe\n",
    "    for k,v in insertion.items():\n",
    "        (w,key) = k\n",
    "        if w != what: continue\n",
    "\n",
    "        threads = int(key.split('_')[-1])\n",
    "        m = len(insertion[k])\n",
    "        if k in deletion.keys() and len(deletion[k]): m = len(deletion[k])\n",
    "        if galois:\n",
    "            for ind in range( min( len(insertion[k]), len(galois[k]) ) ):\n",
    "                if baseline:\n",
    "                    #df2 = pd.DataFrame([ [ k, threads, baseline[threads],insertion[k][ind]-baseline[threads], deletion[k][ind]-baseline[threads], galois[k][ind]-baseline[threads]] ], columns=columns)\n",
    "                    df2 = pd.DataFrame([ [ k, threads, insertion[k][ind]-baseline[threads], deletion[k][ind]-baseline[threads], galois[k][ind]-baseline[threads]] ], columns=columns)\n",
    "                else:\n",
    "                    df2 = pd.DataFrame([ [ k, threads, insertion[k][ind], deletion[k][ind], galois[k][ind]] ], columns=columns)\n",
    "        else:\n",
    "            for ind in range( min( len(insertion[k]), m ) ):\n",
    "                if baseline: df2 = pd.DataFrame([ [k, threads, insertion[k][ind]-baseline[threads], deletion[k][ind]]-baseline[threads] ], columns=columns)\n",
    "                else: df2 = pd.DataFrame([ [k, threads, insertion[k][ind], deletion[k][ind]] ], columns=columns)\n",
    "        df = df.append(df2, ignore_index=True)\n",
    "\n",
    "    if df.empty: \n",
    "        print(what, ': No data')\n",
    "        return\n",
    "    print(df.head(10000).to_string())\n",
    "\n",
    "    if galois:\n",
    "        #if baseline: dd=pd.melt(df,id_vars=['Threads'],value_vars=['Baseline', alg+'-ins',alg + '-del','Galois'],var_name='Operation')\n",
    "        dd=pd.melt(df,id_vars=['Threads'],value_vars=[alg+'-ins',alg + '-del','Galois'],var_name='Operation')\n",
    "    else:\n",
    "        dd=pd.melt(df,id_vars=['Threads'],value_vars=[alg+'-ins',alg + '-del'],var_name='Operation')\n",
    "\n",
    "    #ax = sns.boxplot(x='Threads',y='value',data=dd,hue='Operation',palette=\"Set2\") # also swarmplot\n",
    "    if baseline:\n",
    "        #ax = sns.pointplot(x='Threads',y='value',data=dd,hue='Operation',palette=\"Set2\",markers=['.',\"^\", \"o\",\"*\"],linestyles=['none',\"-\", \"--\", \":\"])\n",
    "        ax = sns.boxplot(x='Threads',y='value',data=dd,hue='Operation',palette=\"Set3\")\n",
    "    else:\n",
    "        #ax = sns.pointplot(x='Threads',y='value',data=dd,hue='Operation',palette=\"Set3\",markers=[\"^\", \"o\",\"*\"],linestyles=[\"-\", \"--\", \":\"])\n",
    "        ax = sns.boxplot(x='Threads',y='value',data=dd,hue='Operation',palette=\"Set3\")\n",
    "    ax.patch.set_alpha(0.5)\n",
    "    plt.ylabel(what)\n",
    "\n",
    "    filename = what + '.pdf'\n",
    "    title = what\n",
    "    plt.title(title)\n",
    "    plt.savefig(filename)\n",
    "    plt.show()"
   ]
  },
  {
   "cell_type": "code",
   "execution_count": 25,
   "metadata": {
    "collapsed": false
   },
   "outputs": [],
   "source": [
    "def extractAndPlotData(lines,alg,algnames,what,epvs,nwnames,insperc,realnetwork=False):\n",
    "    global insertion, deletion, galois\n",
    "    insertion = deletion = galois = {}\n",
    "    nw = ins = ''\n",
    "    \n",
    "    for line in lines:\n",
    "        #algorithm,execution_phase,scale,edges_per_vertex,RMAT_type,insertion_percent,changed_vertices,threads,measurement,value\n",
    "        parts = line.strip().split(',')\n",
    "\n",
    "        # Filter by epv, network type, insertion percentage\n",
    "        if parts[0] == 'algorithm': continue # header\n",
    "\n",
    "        #print(parts)\n",
    "        if not parts[-2].startswith(what): continue\n",
    "\n",
    "        #print(\"Yep:\",parts)\n",
    "        key = (what,'_'.join(parts[2:8]))\n",
    "        \n",
    "        # Network name\n",
    "        nw = parts[4]   \n",
    "        if not nw in nwnames: continue\n",
    "            \n",
    "        if nw.upper() in ['ER','G','B']: realnetwork = False\n",
    "        else: realnetwork = True\n",
    "        \n",
    "        # EPV\n",
    "        epv = parts[3]\n",
    "        if not realnetwork and not epv in epvs: continue\n",
    "\n",
    "        # Insertions percentage\n",
    "        ins = parts[5]\n",
    "        if not ins in insperc: continue\n",
    "        \n",
    "        #if float(parts[-1]) == 0: continue\n",
    "            \n",
    "        #print(alg,nw,ins,what,parts[-2],\"##\",parts)\n",
    "        #print(key,parts[0],parts[1],parts[-1])\n",
    "        if parts[0] == 'Galois':\n",
    "            if parts[1] == 'All':\n",
    "                if not key in galois.keys(): galois[key] = []\n",
    "                galois[key].append(float(parts[-1]))\n",
    "        if parts[0] == alg:\n",
    "            if parts[1] == 'insertion':\n",
    "                print(\"Insertion data:\",key,parts[-1])\n",
    "                if not key in insertion.keys(): insertion[key] = []\n",
    "                insertion[key].append(float(parts[-1]))\n",
    "            elif parts[1] == 'deletion':\n",
    "                if not key in deletion.keys(): deletion[key] = []\n",
    "                deletion[key].append(float(parts[-1]))\n",
    "        #MST ['MST', 'All', '4036538', '8', 'com-lj-org-weighted', '100', '1000000', '48', 'Time (s)', '2.163059']\n",
    "\n",
    "    #print('Insertion:',insertion)\n",
    "    #print('Deletion:',deletion)\n",
    "    #print('Galois:',galois)\n",
    "    genBoxPlot(alg,what,insertion,deletion,galois)\n"
   ]
  },
  {
   "cell_type": "markdown",
   "metadata": {},
   "source": [
    "## Driver for generating all the plots\n",
    "All the data structures are populated by extractData and plots are generated with genBoxPlot"
   ]
  },
  {
   "cell_type": "code",
   "execution_count": 26,
   "metadata": {
    "collapsed": false
   },
   "outputs": [
    {
     "ename": "FileNotFoundError",
     "evalue": "[Errno 2] No such file or directory: 'cc/output-8epv/parsed-power-aggregate.txt'",
     "output_type": "error",
     "traceback": [
      "\u001b[0;31m---------------------------------------------------------------------------\u001b[0m",
      "\u001b[0;31mFileNotFoundError\u001b[0m                         Traceback (most recent call last)",
      "\u001b[0;32m<ipython-input-26-337d61f90c9c>\u001b[0m in \u001b[0;36m<module>\u001b[0;34m()\u001b[0m\n\u001b[1;32m      4\u001b[0m     \u001b[0mfname\u001b[0m \u001b[0;34m=\u001b[0m \u001b[0malgfull\u001b[0m\u001b[0;34m.\u001b[0m\u001b[0mlower\u001b[0m\u001b[0;34m(\u001b[0m\u001b[0;34m)\u001b[0m \u001b[0;34m+\u001b[0m \u001b[0;34m'/parsed-power-aggregate.txt'\u001b[0m\u001b[0;34m\u001b[0m\u001b[0m\n\u001b[1;32m      5\u001b[0m     \u001b[0malg\u001b[0m \u001b[0;34m=\u001b[0m \u001b[0malgfull\u001b[0m\u001b[0;34m.\u001b[0m\u001b[0msplit\u001b[0m\u001b[0;34m(\u001b[0m\u001b[0;34m'/'\u001b[0m\u001b[0;34m)\u001b[0m\u001b[0;34m[\u001b[0m\u001b[0;36m0\u001b[0m\u001b[0;34m]\u001b[0m\u001b[0;34m\u001b[0m\u001b[0m\n\u001b[0;32m----> 6\u001b[0;31m     \u001b[0mlines\u001b[0m \u001b[0;34m=\u001b[0m \u001b[0mopen\u001b[0m\u001b[0;34m(\u001b[0m\u001b[0mfname\u001b[0m\u001b[0;34m)\u001b[0m\u001b[0;34m.\u001b[0m\u001b[0mreadlines\u001b[0m\u001b[0;34m(\u001b[0m\u001b[0;34m)\u001b[0m\u001b[0;34m\u001b[0m\u001b[0m\n\u001b[0m\u001b[1;32m      7\u001b[0m     \u001b[0;32mfor\u001b[0m \u001b[0mwhat\u001b[0m \u001b[0;32min\u001b[0m \u001b[0mwhats\u001b[0m\u001b[0;34m:\u001b[0m\u001b[0;34m\u001b[0m\u001b[0m\n\u001b[1;32m      8\u001b[0m         \u001b[0mextractAndPlotData\u001b[0m\u001b[0;34m(\u001b[0m\u001b[0mlines\u001b[0m\u001b[0;34m,\u001b[0m\u001b[0malg\u001b[0m\u001b[0;34m,\u001b[0m\u001b[0malgnames\u001b[0m\u001b[0;34m,\u001b[0m\u001b[0mwhat\u001b[0m\u001b[0;34m,\u001b[0m\u001b[0mepvs\u001b[0m\u001b[0;34m,\u001b[0m\u001b[0mnws\u001b[0m\u001b[0;34m,\u001b[0m\u001b[0minsperc\u001b[0m\u001b[0;34m)\u001b[0m\u001b[0;34m\u001b[0m\u001b[0m\n",
      "\u001b[0;31mFileNotFoundError\u001b[0m: [Errno 2] No such file or directory: 'cc/output-8epv/parsed-power-aggregate.txt'"
     ]
    }
   ],
   "source": [
    "algnames = [x.split('/')[0] for x in algs]\n",
    "\n",
    "for algfull in algs:\n",
    "    fname = algfull.lower() + '/parsed-power-aggregate.txt'\n",
    "    alg = algfull.split('/')[0]\n",
    "    lines = open(fname).readlines()\n",
    "    for what in whats:\n",
    "        extractAndPlotData(lines,alg,algnames,what,epvs,nws,insperc)"
   ]
  },
  {
   "cell_type": "code",
   "execution_count": null,
   "metadata": {
    "collapsed": true
   },
   "outputs": [],
   "source": []
  }
 ],
 "metadata": {
  "kernelspec": {
   "display_name": "Python 3",
   "language": "python",
   "name": "python3"
  },
  "language_info": {
   "codemirror_mode": {
    "name": "ipython",
    "version": 3
   },
   "file_extension": ".py",
   "mimetype": "text/x-python",
   "name": "python",
   "nbconvert_exporter": "python",
   "pygments_lexer": "ipython3",
   "version": "3.5.1"
  }
 },
 "nbformat": 4,
 "nbformat_minor": 0
}
